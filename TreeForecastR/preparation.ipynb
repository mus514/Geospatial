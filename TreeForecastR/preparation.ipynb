{
 "cells": [
  {
   "cell_type": "code",
   "execution_count": 2,
   "metadata": {
    "vscode": {
     "languageId": "r"
    }
   },
   "outputs": [],
   "source": [
    "#--------------------------------------------\n",
    "# 001\n",
    "# Preprocessing of environmental covariates\n",
    "#--------------------------------------------\n",
    "\n",
    "# Load all the relevant project libraries\n",
    "\n",
    "# library(sf)\n",
    "# library(plyr)\n",
    "# library(dplyr)\n",
    "# library(readr)\n",
    "# library(terra)\n",
    "# library(geodata)"
   ]
  },
  {
   "cell_type": "code",
   "execution_count": 3,
   "metadata": {
    "vscode": {
     "languageId": "r"
    }
   },
   "outputs": [],
   "source": [
    "df <- readr::read_csv(\"data/Urban_Tree_Growth.csv\", show_col_types = FALSE, col_names = TRUE)"
   ]
  },
  {
   "cell_type": "code",
   "execution_count": 4,
   "metadata": {
    "vscode": {
     "languageId": "r"
    }
   },
   "outputs": [],
   "source": [
    "f <- function()\n",
    "{\n",
    "    r <- rnorm(100, 0, 0.5)\n",
    "    s <- cumsum(100 * exp(cumsum(r/12)))\n",
    "    \n",
    "    return(s)\n",
    "}"
   ]
  },
  {
   "cell_type": "code",
   "execution_count": 5,
   "metadata": {
    "vscode": {
     "languageId": "r"
    }
   },
   "outputs": [
    {
     "data": {
      "image/png": "[encoded data removed]",
      "text/plain": [
       "plot without title"
      ]
     },
     "metadata": {
      "image/png": {
       "height": 420,
       "width": 420
      }
     },
     "output_type": "display_data"
    }
   ],
   "source": [
    "par(bg = 'white')\n",
    "plot(f(), type = 'l')"
   ]
  },
  {
   "cell_type": "code",
   "execution_count": 6,
   "metadata": {
    "vscode": {
     "languageId": "r"
    }
   },
   "outputs": [],
   "source": [
    "r <- rnorm(36, 0, 0.5)\n",
    "s <- cumsum(2800 * exp(cumsum(r/12)))"
   ]
  },
  {
   "cell_type": "code",
   "execution_count": 7,
   "metadata": {
    "vscode": {
     "languageId": "r"
    }
   },
   "outputs": [
    {
     "data": {
      "text/html": [
       "<table class=\"dataframe\">\n",
       "<caption>A tibble: 6 × 7</caption>\n",
       "<thead>\n",
       "\t<tr><th scope=col>Species</th><th scope=col>DBH_cm</th><th scope=col>days</th><th scope=col>months</th><th scope=col>years</th><th scope=col>X</th><th scope=col>Y</th></tr>\n",
       "\t<tr><th scope=col>&lt;chr&gt;</th><th scope=col>&lt;dbl&gt;</th><th scope=col>&lt;dbl&gt;</th><th scope=col>&lt;dbl&gt;</th><th scope=col>&lt;dbl&gt;</th><th scope=col>&lt;dbl&gt;</th><th scope=col>&lt;dbl&gt;</th></tr>\n",
       "</thead>\n",
       "<tbody>\n",
       "\t<tr><td>Abies balsamea</td><td>15</td><td>5805</td><td>190</td><td>15</td><td>-73.80433</td><td>45.51316</td></tr>\n",
       "\t<tr><td>Abies balsamea</td><td>25</td><td>5831</td><td>191</td><td>15</td><td>-73.83017</td><td>45.50702</td></tr>\n",
       "\t<tr><td>Abies balsamea</td><td>22</td><td>   0</td><td>  0</td><td> 0</td><td>-73.83035</td><td>45.50696</td></tr>\n",
       "\t<tr><td>Abies balsamea</td><td>33</td><td>5831</td><td>191</td><td>15</td><td>-73.83011</td><td>45.50707</td></tr>\n",
       "\t<tr><td>Abies balsamea</td><td> 7</td><td> 745</td><td> 24</td><td> 2</td><td>-73.58712</td><td>45.56957</td></tr>\n",
       "\t<tr><td>Abies balsamea</td><td>18</td><td>   0</td><td>  0</td><td> 0</td><td>-73.85994</td><td>45.48223</td></tr>\n",
       "</tbody>\n",
       "</table>\n"
      ],
      "text/latex": [
       "A tibble: 6 × 7\n",
       "\\begin{tabular}{lllllll}\n",
       " Species & DBH\\_cm & days & months & years & X & Y\\\\\n",
       " <chr> & <dbl> & <dbl> & <dbl> & <dbl> & <dbl> & <dbl>\\\\\n",
       "\\hline\n",
       "\t Abies balsamea & 15 & 5805 & 190 & 15 & -73.80433 & 45.51316\\\\\n",
       "\t Abies balsamea & 25 & 5831 & 191 & 15 & -73.83017 & 45.50702\\\\\n",
       "\t Abies balsamea & 22 &    0 &   0 &  0 & -73.83035 & 45.50696\\\\\n",
       "\t Abies balsamea & 33 & 5831 & 191 & 15 & -73.83011 & 45.50707\\\\\n",
       "\t Abies balsamea &  7 &  745 &  24 &  2 & -73.58712 & 45.56957\\\\\n",
       "\t Abies balsamea & 18 &    0 &   0 &  0 & -73.85994 & 45.48223\\\\\n",
       "\\end{tabular}\n"
      ],
      "text/markdown": [
       "\n",
       "A tibble: 6 × 7\n",
       "\n",
       "| Species &lt;chr&gt; | DBH_cm &lt;dbl&gt; | days &lt;dbl&gt; | months &lt;dbl&gt; | years &lt;dbl&gt; | X &lt;dbl&gt; | Y &lt;dbl&gt; |\n",
       "|---|---|---|---|---|---|---|\n",
       "| Abies balsamea | 15 | 5805 | 190 | 15 | -73.80433 | 45.51316 |\n",
       "| Abies balsamea | 25 | 5831 | 191 | 15 | -73.83017 | 45.50702 |\n",
       "| Abies balsamea | 22 |    0 |   0 |  0 | -73.83035 | 45.50696 |\n",
       "| Abies balsamea | 33 | 5831 | 191 | 15 | -73.83011 | 45.50707 |\n",
       "| Abies balsamea |  7 |  745 |  24 |  2 | -73.58712 | 45.56957 |\n",
       "| Abies balsamea | 18 |    0 |   0 |  0 | -73.85994 | 45.48223 |\n",
       "\n"
      ],
      "text/plain": [
       "  Species        DBH_cm days months years X         Y       \n",
       "1 Abies balsamea 15     5805 190    15    -73.80433 45.51316\n",
       "2 Abies balsamea 25     5831 191    15    -73.83017 45.50702\n",
       "3 Abies balsamea 22        0   0     0    -73.83035 45.50696\n",
       "4 Abies balsamea 33     5831 191    15    -73.83011 45.50707\n",
       "5 Abies balsamea  7      745  24     2    -73.58712 45.56957\n",
       "6 Abies balsamea 18        0   0     0    -73.85994 45.48223"
      ]
     },
     "metadata": {},
     "output_type": "display_data"
    }
   ],
   "source": [
    "head(df)"
   ]
  }
 ],
 "metadata": {
  "kernelspec": {
   "display_name": "R",
   "language": "R",
   "name": "ir"
  },
  "language_info": {
   "codemirror_mode": "r",
   "file_extension": ".r",
   "mimetype": "text/x-r-source",
   "name": "R",
   "pygments_lexer": "r",
   "version": "4.4.0"
  }
 },
 "nbformat": 4,
 "nbformat_minor": 2
}
